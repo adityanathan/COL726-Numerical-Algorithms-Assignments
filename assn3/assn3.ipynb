{
 "cells": [
  {
   "cell_type": "code",
   "execution_count": null,
   "id": "nominated-significance",
   "metadata": {},
   "outputs": [],
   "source": [
    "import numpy as np"
   ]
  },
  {
   "cell_type": "code",
   "execution_count": null,
   "id": "official-vancouver",
   "metadata": {},
   "outputs": [],
   "source": [
    "def abs_max_arg(l):\n",
    "    return np.argmax(np.abs(l))"
   ]
  },
  {
   "cell_type": "code",
   "execution_count": null,
   "id": "agricultural-oxide",
   "metadata": {},
   "outputs": [],
   "source": [
    "def lup(A):\n",
    "    A = A.astype('float64')\n",
    "    if A.shape[0] != A.shape[1]:\n",
    "        raise Exception('Input is not a square matrix')\n",
    "    m = A.shape[0]\n",
    "    U = A.copy(); L = np.eye(m, dtype=np.float64); P = np.eye(m, dtype=np.float64)\n",
    "    \n",
    "    for k in range(m-1):\n",
    "        i = k + abs_max_arg(U[k:,k])\n",
    "        if(k!=i):\n",
    "            U[[k,i], k:] = U[[i,k], k:]\n",
    "            L[[k,i], :k] = L[[i,k], :k]\n",
    "            P[[k,i], :] = P[[i,k], :]\n",
    "        for j in range(k+1,m):\n",
    "            L[j,k] = U[j,k]/U[k,k]\n",
    "            U[j,k:] = U[j,k:] - L[j,k]*U[k,k:]\n",
    "#         print(k,\"\\n\\n\",P,\"\\n\\n\",L,\"\\n\\n\",U,\"\\n-------------\\n\")\n",
    "    return (P,L,U)"
   ]
  },
  {
   "cell_type": "code",
   "execution_count": null,
   "id": "stuck-fleet",
   "metadata": {},
   "outputs": [],
   "source": [
    "A = np.array([[2,1,1,0], [4,3,3,1], [8,7,9,5],[6,7,9,8]])"
   ]
  },
  {
   "cell_type": "code",
   "execution_count": null,
   "id": "swiss-provision",
   "metadata": {},
   "outputs": [],
   "source": [
    "(P,L,U) = lup(A)"
   ]
  },
  {
   "cell_type": "code",
   "execution_count": null,
   "id": "abstract-treasure",
   "metadata": {},
   "outputs": [],
   "source": [
    "(P,L,U)"
   ]
  },
  {
   "cell_type": "code",
   "execution_count": null,
   "id": "proud-wheat",
   "metadata": {},
   "outputs": [],
   "source": []
  }
 ],
 "metadata": {
  "kernelspec": {
   "display_name": "Python 3",
   "language": "python",
   "name": "python3"
  },
  "language_info": {
   "codemirror_mode": {
    "name": "ipython",
    "version": 3
   },
   "file_extension": ".py",
   "mimetype": "text/x-python",
   "name": "python",
   "nbconvert_exporter": "python",
   "pygments_lexer": "ipython3",
   "version": "3.8.5"
  }
 },
 "nbformat": 4,
 "nbformat_minor": 5
}
