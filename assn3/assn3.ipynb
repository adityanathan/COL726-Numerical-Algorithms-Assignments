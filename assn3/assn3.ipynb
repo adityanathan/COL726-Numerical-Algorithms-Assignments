{
 "cells": [
  {
   "cell_type": "code",
   "execution_count": 1,
   "id": "ruled-boost",
   "metadata": {},
   "outputs": [],
   "source": [
    "import numpy as np"
   ]
  },
  {
   "cell_type": "code",
   "execution_count": 2,
   "id": "declared-climate",
   "metadata": {},
   "outputs": [],
   "source": [
    "def abs_max_arg(l):\n",
    "    return np.argmax(np.abs(l))"
   ]
  },
  {
   "cell_type": "code",
   "execution_count": 82,
   "id": "elder-garbage",
   "metadata": {},
   "outputs": [],
   "source": [
    "def upper_solve(A,b):\n",
    "    A = A.astype('float64'); b = b.astype('float64')\n",
    "    if (A.shape[1]!=b.shape[0]): raise Exception(\"Dimensions don't match\")\n",
    "    n = A.shape[1]\n",
    "    x = np.zeros(n, dtype=np.float64)\n",
    "    for i in range(n-1, -1, -1):\n",
    "        tmp = b[i]\n",
    "        tmp -= np.dot(x, A[i,:])\n",
    "        x[i] = tmp/A[i,i]\n",
    "    \n",
    "    return x\n",
    "\n",
    "def lower_solve(A,b):\n",
    "    A = A.astype('float64'); b = b.astype('float64')\n",
    "    if (A.shape[1]!=b.shape[0]): raise Exception(\"Dimensions don't match\")\n",
    "    n = A.shape[1]\n",
    "    x = np.zeros(n, dtype=np.float64)\n",
    "    for i in range(0,n):\n",
    "        tmp = b[i]\n",
    "        tmp -= np.dot(x, A[i,:])\n",
    "        x[i] = tmp/A[i,i]\n",
    "    \n",
    "    return x"
   ]
  },
  {
   "cell_type": "code",
   "execution_count": 83,
   "id": "reported-minneapolis",
   "metadata": {},
   "outputs": [],
   "source": [
    "def lup(A):\n",
    "    A = A.astype('float64')\n",
    "    if A.shape[0] != A.shape[1]:\n",
    "        raise Exception('Input is not a square matrix')\n",
    "    m = A.shape[0]\n",
    "    U = A.copy(); L = np.eye(m, dtype=np.float64); P = np.eye(m, dtype=np.float64)\n",
    "    \n",
    "    for k in range(m-1):\n",
    "        i = k + abs_max_arg(U[k:,k])\n",
    "        if(k!=i):\n",
    "            U[[k,i], k:] = U[[i,k], k:]\n",
    "            L[[k,i], :k] = L[[i,k], :k]\n",
    "            P[[k,i], :] = P[[i,k], :]\n",
    "        for j in range(k+1,m):\n",
    "            L[j,k] = U[j,k]/U[k,k]\n",
    "            U[j,k:] = U[j,k:] - L[j,k]*U[k,k:]\n",
    "#         print(k,\"\\n\\n\",P,\"\\n\\n\",L,\"\\n\\n\",U,\"\\n-------------\\n\")\n",
    "    return (P,L,U)\n",
    "\n",
    "def solveLup(P,L,U,b):\n",
    "    b_ = P@b\n",
    "    y = lower_solve(L,b_)\n",
    "    x = upper_solve(U,y)\n",
    "    return x"
   ]
  },
  {
   "cell_type": "code",
   "execution_count": 138,
   "id": "vanilla-carol",
   "metadata": {},
   "outputs": [],
   "source": [
    "def instabilityMatrix(m):\n",
    "    M = 2*np.eye(m)-np.tri(m)\n",
    "    last_col = np.ones(m)\n",
    "    last_col[-1]=0\n",
    "    M[:,-1] = M[:,-1]+last_col\n",
    "    return M"
   ]
  },
  {
   "cell_type": "code",
   "execution_count": 139,
   "id": "narrow-museum",
   "metadata": {},
   "outputs": [],
   "source": [
    "A = np.array([[2,1,1,0], [4,3,3,1], [8,7,9,5],[6,7,9,8]])"
   ]
  },
  {
   "cell_type": "code",
   "execution_count": 140,
   "id": "aquatic-executive",
   "metadata": {},
   "outputs": [],
   "source": [
    "(P,L,U) = lup(A)"
   ]
  },
  {
   "cell_type": "code",
   "execution_count": 141,
   "id": "vanilla-thread",
   "metadata": {},
   "outputs": [
    {
     "data": {
      "text/plain": [
       "(array([[2, 1, 1, 0],\n",
       "        [4, 3, 3, 1],\n",
       "        [8, 7, 9, 5],\n",
       "        [6, 7, 9, 8]]),\n",
       " (array([[0., 0., 1., 0.],\n",
       "         [0., 0., 0., 1.],\n",
       "         [0., 1., 0., 0.],\n",
       "         [1., 0., 0., 0.]]),\n",
       "  array([[ 1.        ,  0.        ,  0.        ,  0.        ],\n",
       "         [ 0.75      ,  1.        ,  0.        ,  0.        ],\n",
       "         [ 0.5       , -0.28571429,  1.        ,  0.        ],\n",
       "         [ 0.25      , -0.42857143,  0.33333333,  1.        ]]),\n",
       "  array([[ 8.        ,  7.        ,  9.        ,  5.        ],\n",
       "         [ 0.        ,  1.75      ,  2.25      ,  4.25      ],\n",
       "         [ 0.        ,  0.        , -0.85714286, -0.28571429],\n",
       "         [ 0.        ,  0.        ,  0.        ,  0.66666667]])))"
      ]
     },
     "execution_count": 141,
     "metadata": {},
     "output_type": "execute_result"
    }
   ],
   "source": [
    "A,(P,L,U)"
   ]
  },
  {
   "cell_type": "code",
   "execution_count": 142,
   "id": "appreciated-telescope",
   "metadata": {},
   "outputs": [],
   "source": [
    "b = [4,3,2,1]"
   ]
  },
  {
   "cell_type": "code",
   "execution_count": 143,
   "id": "handy-wright",
   "metadata": {},
   "outputs": [
    {
     "data": {
      "text/plain": [
       "array([ 6.5, -5.5, -3.5,  4. ])"
      ]
     },
     "execution_count": 143,
     "metadata": {},
     "output_type": "execute_result"
    }
   ],
   "source": [
    "solveLup(P,L,U,b)"
   ]
  },
  {
   "cell_type": "code",
   "execution_count": 207,
   "id": "familiar-means",
   "metadata": {},
   "outputs": [],
   "source": [
    "M = instabilityMatrix(60)\n",
    "M[0,0]=1.1\n",
    "(P,L,U)=lup(M)"
   ]
  },
  {
   "cell_type": "code",
   "execution_count": 208,
   "id": "incorrect-feedback",
   "metadata": {},
   "outputs": [
    {
     "data": {
      "text/plain": [
       "(array([[1., 0., 0., ..., 0., 0., 0.],\n",
       "        [0., 1., 0., ..., 0., 0., 0.],\n",
       "        [0., 0., 1., ..., 0., 0., 0.],\n",
       "        ...,\n",
       "        [0., 0., 0., ..., 1., 0., 0.],\n",
       "        [0., 0., 0., ..., 0., 1., 0.],\n",
       "        [0., 0., 0., ..., 0., 0., 1.]]),\n",
       " array([[ 1.        ,  0.        ,  0.        , ...,  0.        ,\n",
       "          0.        ,  0.        ],\n",
       "        [-0.90909091,  1.        ,  0.        , ...,  0.        ,\n",
       "          0.        ,  0.        ],\n",
       "        [-0.90909091, -1.        ,  1.        , ...,  0.        ,\n",
       "          0.        ,  0.        ],\n",
       "        ...,\n",
       "        [-0.90909091, -1.        , -1.        , ...,  1.        ,\n",
       "          0.        ,  0.        ],\n",
       "        [-0.90909091, -1.        , -1.        , ..., -1.        ,\n",
       "          1.        ,  0.        ],\n",
       "        [-0.90909091, -1.        , -1.        , ..., -1.        ,\n",
       "         -1.        ,  1.        ]]),\n",
       " array([1.00000000e+00, 1.90909091e+00, 3.81818182e+00, 7.63636364e+00,\n",
       "        1.52727273e+01, 3.05454545e+01, 6.10909091e+01, 1.22181818e+02,\n",
       "        2.44363636e+02, 4.88727273e+02, 9.77454545e+02, 1.95490909e+03,\n",
       "        3.90981818e+03, 7.81963636e+03, 1.56392727e+04, 3.12785455e+04,\n",
       "        6.25570909e+04, 1.25114182e+05, 2.50228364e+05, 5.00456727e+05,\n",
       "        1.00091345e+06, 2.00182691e+06, 4.00365382e+06, 8.00730764e+06,\n",
       "        1.60146153e+07, 3.20292305e+07, 6.40584611e+07, 1.28116922e+08,\n",
       "        2.56233844e+08, 5.12467689e+08, 1.02493538e+09, 2.04987075e+09,\n",
       "        4.09974151e+09, 8.19948302e+09, 1.63989660e+10, 3.27979321e+10,\n",
       "        6.55958642e+10, 1.31191728e+11, 2.62383457e+11, 5.24766913e+11,\n",
       "        1.04953383e+12, 2.09906765e+12, 4.19813531e+12, 8.39627061e+12,\n",
       "        1.67925412e+13, 3.35850824e+13, 6.71701649e+13, 1.34340330e+14,\n",
       "        2.68680660e+14, 5.37361319e+14, 1.07472264e+15, 2.14944528e+15,\n",
       "        4.29889055e+15, 8.59778111e+15, 1.71955622e+16, 3.43911244e+16,\n",
       "        6.87822489e+16, 1.37564498e+17, 2.75128995e+17, 5.50257991e+17]))"
      ]
     },
     "execution_count": 208,
     "metadata": {},
     "output_type": "execute_result"
    }
   ],
   "source": [
    "P,L,U[:,-1]"
   ]
  },
  {
   "cell_type": "code",
   "execution_count": 209,
   "id": "integrated-spelling",
   "metadata": {},
   "outputs": [
    {
     "data": {
      "text/plain": [
       "False"
      ]
     },
     "execution_count": 209,
     "metadata": {},
     "output_type": "execute_result"
    }
   ],
   "source": [
    "np.allclose(P@M,L@U)"
   ]
  },
  {
   "cell_type": "code",
   "execution_count": 210,
   "id": "british-preference",
   "metadata": {},
   "outputs": [
    {
     "data": {
      "text/plain": [
       "(array([[ 1.1,  0. ,  0. , ...,  0. ,  0. ,  1. ],\n",
       "        [-1. ,  1. ,  0. , ...,  0. ,  0. ,  1. ],\n",
       "        [-1. , -1. ,  1. , ...,  0. ,  0. ,  1. ],\n",
       "        ...,\n",
       "        [-1. , -1. , -1. , ...,  1. ,  0. ,  1. ],\n",
       "        [-1. , -1. , -1. , ..., -1. ,  1. ,  1. ],\n",
       "        [-1. , -1. , -1. , ..., -1. , -1. ,  1. ]]),\n",
       " array([[ 1.1,  0. ,  0. , ...,  0. ,  0. ,  1. ],\n",
       "        [-1. ,  1. ,  0. , ...,  0. ,  0. ,  1. ],\n",
       "        [-1. , -1. ,  1. , ...,  0. ,  0. ,  1. ],\n",
       "        ...,\n",
       "        [-1. , -1. , -1. , ...,  1. ,  0. , 16. ],\n",
       "        [-1. , -1. , -1. , ..., -1. ,  1. , 32. ],\n",
       "        [-1. , -1. , -1. , ..., -1. , -1. , 64. ]]))"
      ]
     },
     "execution_count": 210,
     "metadata": {},
     "output_type": "execute_result"
    }
   ],
   "source": [
    "(P@M), (L@U)"
   ]
  },
  {
   "cell_type": "code",
   "execution_count": 211,
   "id": "exciting-correspondence",
   "metadata": {},
   "outputs": [
    {
     "data": {
      "text/plain": [
       "1.9049271925203826"
      ]
     },
     "execution_count": 211,
     "metadata": {},
     "output_type": "execute_result"
    }
   ],
   "source": [
    "np.linalg.norm(P@M-L@U,2)/np.linalg.norm(M,2)"
   ]
  },
  {
   "cell_type": "code",
   "execution_count": 212,
   "id": "diagnostic-motivation",
   "metadata": {},
   "outputs": [
    {
     "data": {
      "text/plain": [
       "37.90592788935169"
      ]
     },
     "execution_count": 212,
     "metadata": {},
     "output_type": "execute_result"
    }
   ],
   "source": [
    "np.linalg.norm(M,2)"
   ]
  },
  {
   "cell_type": "code",
   "execution_count": 213,
   "id": "alternate-ghana",
   "metadata": {},
   "outputs": [
    {
     "data": {
      "text/plain": [
       "array([ 1.,  1.,  1.,  1.,  1.,  1.,  1.,  1.,  1.,  1.,  1.,  1.,  1.,\n",
       "        1.,  1.,  1.,  1.,  1.,  1.,  1.,  1.,  1.,  1.,  1.,  1.,  1.,\n",
       "        1.,  1.,  1.,  1.,  1.,  1.,  1.,  1.,  1.,  1.,  1.,  1.,  1.,\n",
       "        1.,  1.,  1.,  1.,  1.,  1.,  1.,  1.,  1.,  1.,  1.,  1.,  1.,\n",
       "        1.,  1.,  2.,  4.,  8., 16., 32., 64.])"
      ]
     },
     "execution_count": 213,
     "metadata": {},
     "output_type": "execute_result"
    }
   ],
   "source": [
    "(L@U)[:,-1]"
   ]
  },
  {
   "cell_type": "code",
   "execution_count": null,
   "id": "great-variance",
   "metadata": {},
   "outputs": [],
   "source": []
  }
 ],
 "metadata": {
  "kernelspec": {
   "display_name": "Python 3",
   "language": "python",
   "name": "python3"
  },
  "language_info": {
   "codemirror_mode": {
    "name": "ipython",
    "version": 3
   },
   "file_extension": ".py",
   "mimetype": "text/x-python",
   "name": "python",
   "nbconvert_exporter": "python",
   "pygments_lexer": "ipython3",
   "version": "3.8.5"
  }
 },
 "nbformat": 4,
 "nbformat_minor": 5
}
