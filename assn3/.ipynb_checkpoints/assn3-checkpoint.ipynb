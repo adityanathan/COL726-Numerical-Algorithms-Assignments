{
 "cells": [
  {
   "cell_type": "code",
   "execution_count": 1,
   "id": "filled-attraction",
   "metadata": {},
   "outputs": [],
   "source": [
    "import numpy as np"
   ]
  },
  {
   "cell_type": "code",
   "execution_count": 2,
   "id": "sensitive-failing",
   "metadata": {},
   "outputs": [],
   "source": [
    "def abs_max_arg(l):\n",
    "    return np.argmax(np.abs(l))"
   ]
  },
  {
   "cell_type": "code",
   "execution_count": 82,
   "id": "residential-sauce",
   "metadata": {},
   "outputs": [],
   "source": [
    "def upper_solve(A,b):\n",
    "    A = A.astype('float64'); b = b.astype('float64')\n",
    "    if (A.shape[1]!=b.shape[0]): raise Exception(\"Dimensions don't match\")\n",
    "    n = A.shape[1]\n",
    "    x = np.zeros(n, dtype=np.float64)\n",
    "    for i in range(n-1, -1, -1):\n",
    "        tmp = b[i]\n",
    "        tmp -= np.dot(x, A[i,:])\n",
    "        x[i] = tmp/A[i,i]\n",
    "    \n",
    "    return x\n",
    "\n",
    "def lower_solve(A,b):\n",
    "    A = A.astype('float64'); b = b.astype('float64')\n",
    "    if (A.shape[1]!=b.shape[0]): raise Exception(\"Dimensions don't match\")\n",
    "    n = A.shape[1]\n",
    "    x = np.zeros(n, dtype=np.float64)\n",
    "    for i in range(0,n):\n",
    "        tmp = b[i]\n",
    "        tmp -= np.dot(x, A[i,:])\n",
    "        x[i] = tmp/A[i,i]\n",
    "    \n",
    "    return x"
   ]
  },
  {
   "cell_type": "code",
   "execution_count": 83,
   "id": "prescription-emission",
   "metadata": {},
   "outputs": [],
   "source": [
    "def lup(A):\n",
    "    A = A.astype('float64')\n",
    "    if A.shape[0] != A.shape[1]:\n",
    "        raise Exception('Input is not a square matrix')\n",
    "    m = A.shape[0]\n",
    "    U = A.copy(); L = np.eye(m, dtype=np.float64); P = np.eye(m, dtype=np.float64)\n",
    "    \n",
    "    for k in range(m-1):\n",
    "        i = k + abs_max_arg(U[k:,k])\n",
    "        if(k!=i):\n",
    "            U[[k,i], k:] = U[[i,k], k:]\n",
    "            L[[k,i], :k] = L[[i,k], :k]\n",
    "            P[[k,i], :] = P[[i,k], :]\n",
    "        for j in range(k+1,m):\n",
    "            L[j,k] = U[j,k]/U[k,k]\n",
    "            U[j,k:] = U[j,k:] - L[j,k]*U[k,k:]\n",
    "#         print(k,\"\\n\\n\",P,\"\\n\\n\",L,\"\\n\\n\",U,\"\\n-------------\\n\")\n",
    "    return (P,L,U)\n",
    "\n",
    "def solveLup(P,L,U,b):\n",
    "    b_ = P@b\n",
    "    y = lower_solve(L,b_)\n",
    "    x = upper_solve(U,y)\n",
    "    return x"
   ]
  },
  {
   "cell_type": "code",
   "execution_count": 96,
   "id": "christian-organ",
   "metadata": {},
   "outputs": [],
   "source": [
    "A = np.array([[2,1,1,0], [4,3,3,1], [8,7,9,5],[6,7,9,8]])"
   ]
  },
  {
   "cell_type": "code",
   "execution_count": 97,
   "id": "solar-interval",
   "metadata": {},
   "outputs": [],
   "source": [
    "(P,L,U) = lup(A)"
   ]
  },
  {
   "cell_type": "code",
   "execution_count": 101,
   "id": "cheap-mortgage",
   "metadata": {},
   "outputs": [
    {
     "data": {
      "text/plain": [
       "(array([[2, 1, 1, 0],\n",
       "        [4, 3, 3, 1],\n",
       "        [8, 7, 9, 5],\n",
       "        [6, 7, 9, 8]]),\n",
       " (array([[0., 0., 1., 0.],\n",
       "         [0., 0., 0., 1.],\n",
       "         [0., 1., 0., 0.],\n",
       "         [1., 0., 0., 0.]]),\n",
       "  array([[ 1.        ,  0.        ,  0.        ,  0.        ],\n",
       "         [ 0.75      ,  1.        ,  0.        ,  0.        ],\n",
       "         [ 0.5       , -0.28571429,  1.        ,  0.        ],\n",
       "         [ 0.25      , -0.42857143,  0.33333333,  1.        ]]),\n",
       "  array([[ 8.        ,  7.        ,  9.        ,  5.        ],\n",
       "         [ 0.        ,  1.75      ,  2.25      ,  4.25      ],\n",
       "         [ 0.        ,  0.        , -0.85714286, -0.28571429],\n",
       "         [ 0.        ,  0.        ,  0.        ,  0.66666667]])))"
      ]
     },
     "execution_count": 101,
     "metadata": {},
     "output_type": "execute_result"
    }
   ],
   "source": [
    "A,(P,L,U)"
   ]
  },
  {
   "cell_type": "code",
   "execution_count": 105,
   "id": "sustained-isaac",
   "metadata": {},
   "outputs": [],
   "source": [
    "b = [4,3,2,1]"
   ]
  },
  {
   "cell_type": "code",
   "execution_count": 106,
   "id": "earned-recycling",
   "metadata": {},
   "outputs": [
    {
     "data": {
      "text/plain": [
       "array([ 6.5, -5.5, -3.5,  4. ])"
      ]
     },
     "execution_count": 106,
     "metadata": {},
     "output_type": "execute_result"
    }
   ],
   "source": [
    "solveLup(P,L,U,b)"
   ]
  },
  {
   "cell_type": "code",
   "execution_count": null,
   "id": "automotive-parts",
   "metadata": {},
   "outputs": [],
   "source": []
  }
 ],
 "metadata": {
  "kernelspec": {
   "display_name": "Python 3",
   "language": "python",
   "name": "python3"
  },
  "language_info": {
   "codemirror_mode": {
    "name": "ipython",
    "version": 3
   },
   "file_extension": ".py",
   "mimetype": "text/x-python",
   "name": "python",
   "nbconvert_exporter": "python",
   "pygments_lexer": "ipython3",
   "version": "3.8.5"
  }
 },
 "nbformat": 4,
 "nbformat_minor": 5
}
