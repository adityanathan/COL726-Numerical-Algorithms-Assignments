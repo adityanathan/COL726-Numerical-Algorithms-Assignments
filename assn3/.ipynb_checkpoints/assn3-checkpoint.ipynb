{
 "cells": [
  {
   "cell_type": "code",
   "execution_count": 110,
   "id": "checked-spirituality",
   "metadata": {},
   "outputs": [],
   "source": [
    "import numpy as np\n",
    "import matplotlib.pyplot as plt\n",
    "import seaborn as sns\n",
    "sns.set()"
   ]
  },
  {
   "cell_type": "code",
   "execution_count": 2,
   "id": "cutting-butterfly",
   "metadata": {},
   "outputs": [],
   "source": [
    "def abs_max_arg(l):\n",
    "    return np.argmax(np.abs(l))"
   ]
  },
  {
   "cell_type": "code",
   "execution_count": 3,
   "id": "municipal-training",
   "metadata": {},
   "outputs": [],
   "source": [
    "def upper_solve(A,b):\n",
    "    A = A.astype('float64'); b = b.astype('float64')\n",
    "    if (A.shape[1]!=b.shape[0]): raise Exception(\"Dimensions don't match\")\n",
    "    n = A.shape[1]\n",
    "    x = np.zeros(n, dtype=np.float64)\n",
    "    for i in range(n-1, -1, -1):\n",
    "        tmp = b[i]\n",
    "        tmp -= np.dot(x, A[i,:])\n",
    "        x[i] = tmp/A[i,i]\n",
    "    \n",
    "    return x\n",
    "\n",
    "def lower_solve(A,b):\n",
    "    A = A.astype('float64'); b = b.astype('float64')\n",
    "    if (A.shape[1]!=b.shape[0]): raise Exception(\"Dimensions don't match\")\n",
    "    n = A.shape[1]\n",
    "    x = np.zeros(n, dtype=np.float64)\n",
    "    for i in range(0,n):\n",
    "        tmp = b[i]\n",
    "        tmp -= np.dot(x, A[i,:])\n",
    "        x[i] = tmp/A[i,i]\n",
    "    \n",
    "    return x"
   ]
  },
  {
   "cell_type": "code",
   "execution_count": 148,
   "id": "racial-husband",
   "metadata": {},
   "outputs": [],
   "source": [
    "def lup(A):\n",
    "    A = A.astype('float64')\n",
    "    if A.shape[0] != A.shape[1]:\n",
    "        raise Exception('Input is not a square matrix')\n",
    "    m = A.shape[0]\n",
    "    U = A.copy(); L = np.eye(m, dtype=np.float64); P = np.eye(m, dtype=np.float64)\n",
    "    \n",
    "    for k in range(m-1):\n",
    "        i = k + abs_max_arg(U[k:,k])\n",
    "        if(k!=i):\n",
    "            U[[k,i], :] = U[[i,k], :]\n",
    "            L[[k,i], :k] = L[[i,k], :k]\n",
    "            P[[k,i], :] = P[[i,k], :]\n",
    "        for j in range(k+1,m):\n",
    "            L[j,k] = U[j,k]/U[k,k]\n",
    "            U[j,k:] = U[j,k:] - L[j,k]*U[k,k:]\n",
    "#         print(k,\"\\n\\n\",P,\"\\n\\n\",L,\"\\n\\n\",U,\"\\n-------------\\n\")\n",
    "    return (P,L,U)\n",
    "\n",
    "def solveLup(P,L,U,b):\n",
    "    b_ = P@b\n",
    "    y = lower_solve(L,b_)\n",
    "    x = upper_solve(U,y)\n",
    "    return x.reshape(-1,1)"
   ]
  },
  {
   "cell_type": "code",
   "execution_count": 149,
   "id": "front-melbourne",
   "metadata": {},
   "outputs": [],
   "source": [
    "def find_rook_pivot(U):\n",
    "    i = 0; j = 0\n",
    "    i_change = True; j_change = True\n",
    "    \n",
    "    while(i_change or j_change):\n",
    "        i_change = False; j_change = False\n",
    "        if(i != abs_max_arg(U[:,j])):\n",
    "            i_change = True\n",
    "            i = abs_max_arg(U[:,j])\n",
    "        elif(j != abs_max_arg(U[i,:])):\n",
    "            j_change = True\n",
    "            j = abs_max_arg(U[i,:])\n",
    "        \n",
    "    return i,j\n",
    "        \n",
    "\n",
    "def lupq(A):\n",
    "    A = A.astype('float64')\n",
    "    if A.shape[0] != A.shape[1]:\n",
    "        raise Exception('Input is not a square matrix')\n",
    "    m = A.shape[0]\n",
    "    U = A.copy(); L = np.eye(m, dtype=np.float64); P = np.eye(m, dtype=np.float64); Q = np.eye(m, dtype=np.float64)\n",
    "    \n",
    "    for k in range(m-1):\n",
    "        (i,j) = find_rook_pivot(U[k:,k:])\n",
    "        (i,j) = (i+k,j+k)\n",
    "\n",
    "        U[[k,i], :] = U[[i,k], :]\n",
    "        U[:, [k,j]] = U[:, [j,k]]\n",
    "\n",
    "        L[[k,i], :k] = L[[i,k], :k]\n",
    "\n",
    "        P[[k,i], :] = P[[i,k], :]\n",
    "\n",
    "        Q[:, [k,j]] = Q[:, [j,k]]\n",
    "            \n",
    "        for l in range(k+1,m):\n",
    "            L[l,k] = U[l,k]/U[k,k]\n",
    "            U[l,k:] = U[l,k:] - L[l,k]*U[k,k:]\n",
    "#         print(P,\"\\n\\n\",L,\"\\n\\n\",U,\"\\n\\n\",Q,\"\\n-------------\\n\")\n",
    "    return (P,Q,L,U)\n",
    "\n",
    "def solveLupq(P,Q,L,U,b):\n",
    "    b_ = P@b\n",
    "    z = lower_solve(L,b_)\n",
    "    y = upper_solve(U,z)\n",
    "    x = Q@y\n",
    "    return x.reshape(-1,1)"
   ]
  },
  {
   "cell_type": "code",
   "execution_count": 207,
   "id": "rational-adjustment",
   "metadata": {},
   "outputs": [],
   "source": [
    "def instabilityMatrix(m):\n",
    "    M = 2*np.eye(m)-np.tri(m)\n",
    "    last_col = np.ones(m)\n",
    "    last_col[-1]=0\n",
    "    M[:,-1] = M[:,-1]+last_col\n",
    "    return M\n",
    "\n",
    "def abs_max(A):\n",
    "    return max(abs(np.max(A)),abs(np.min(A)))\n",
    "\n",
    "def rbe(A,x,b): return np.linalg.norm(A@x-b,2)/np.linalg.norm(b,2)"
   ]
  },
  {
   "cell_type": "code",
   "execution_count": 186,
   "id": "adolescent-restaurant",
   "metadata": {},
   "outputs": [],
   "source": [
    "A = np.array([[2,1,1,0], [4,3,3,1], [8,7,9,5],[6,7,9,8]])\n",
    "b = np.array([4,3,2,1]).reshape(-1,1)"
   ]
  },
  {
   "cell_type": "code",
   "execution_count": 188,
   "id": "interim-niger",
   "metadata": {},
   "outputs": [
    {
     "data": {
      "text/plain": [
       "array([[ 6.5],\n",
       "       [-5.5],\n",
       "       [-3.5],\n",
       "       [ 4. ]])"
      ]
     },
     "execution_count": 188,
     "metadata": {},
     "output_type": "execute_result"
    }
   ],
   "source": [
    "(P,L,U) = lup(A)\n",
    "solveLup(P,L,U,b)"
   ]
  },
  {
   "cell_type": "code",
   "execution_count": 189,
   "id": "charming-harvest",
   "metadata": {},
   "outputs": [
    {
     "data": {
      "text/plain": [
       "array([[ 6.5],\n",
       "       [-5.5],\n",
       "       [-3.5],\n",
       "       [ 4. ]])"
      ]
     },
     "execution_count": 189,
     "metadata": {},
     "output_type": "execute_result"
    }
   ],
   "source": [
    "(P,Q,L,U) = lupq(A)\n",
    "solveLupq(P,Q,L,U,b)"
   ]
  },
  {
   "cell_type": "code",
   "execution_count": 90,
   "id": "modern-attack",
   "metadata": {},
   "outputs": [],
   "source": [
    "M = instabilityMatrix(60)\n",
    "# M[0,0]=1.1\n",
    "(P,L,U)=lup(M)"
   ]
  },
  {
   "cell_type": "code",
   "execution_count": 89,
   "id": "found-spine",
   "metadata": {},
   "outputs": [],
   "source": [
    "# P,L,U[:,-1]"
   ]
  },
  {
   "cell_type": "code",
   "execution_count": 88,
   "id": "fantastic-thursday",
   "metadata": {},
   "outputs": [],
   "source": [
    "# np.allclose(P@M,L@U)"
   ]
  },
  {
   "cell_type": "code",
   "execution_count": 87,
   "id": "fixed-style",
   "metadata": {},
   "outputs": [],
   "source": [
    "# (P@M), (L@U)"
   ]
  },
  {
   "cell_type": "code",
   "execution_count": 85,
   "id": "respective-twins",
   "metadata": {},
   "outputs": [],
   "source": [
    "# np.linalg.norm(P@M-L@U,2)/np.linalg.norm(M,2)"
   ]
  },
  {
   "cell_type": "code",
   "execution_count": 86,
   "id": "electoral-windsor",
   "metadata": {},
   "outputs": [],
   "source": [
    "# np.linalg.norm(M,2)"
   ]
  },
  {
   "cell_type": "code",
   "execution_count": 84,
   "id": "fundamental-worcester",
   "metadata": {},
   "outputs": [],
   "source": [
    "# (L@U)[:,-1]"
   ]
  },
  {
   "cell_type": "code",
   "execution_count": 117,
   "id": "extended-personality",
   "metadata": {},
   "outputs": [],
   "source": [
    "y_partial = []\n",
    "y_complete = []\n",
    "x = range(1,61)\n",
    "for i in x:\n",
    "    M = instabilityMatrix(i)\n",
    "    (P,L,U)=lup(M)\n",
    "    y_partial.extend([abs_max(U)/abs_max(A)])\n",
    "    (P,Q,L,U)=lupq(M)\n",
    "    y_complete.extend([abs_max(U)/abs_max(A)])"
   ]
  },
  {
   "cell_type": "code",
   "execution_count": 136,
   "id": "statutory-history",
   "metadata": {},
   "outputs": [
    {
     "data": {
      "image/png": "[encoded data removed]",
      "text/plain": [
       "<Figure size 576x360 with 1 Axes>"
      ]
     },
     "metadata": {},
     "output_type": "display_data"
    }
   ],
   "source": [
    "fig = plt.figure(figsize=(8,5))\n",
    "plt.plot(x,y_partial,label='partial pivoting')\n",
    "plt.plot(x,y_complete,label='complete pivoting')\n",
    "plt.xlabel('m')\n",
    "plt.ylabel('growth factor')\n",
    "plt.yscale('log')\n",
    "plt.legend()\n",
    "plt.savefig('growth.png')\n",
    "plt.show()"
   ]
  },
  {
   "cell_type": "code",
   "execution_count": 216,
   "id": "differential-atlas",
   "metadata": {},
   "outputs": [],
   "source": [
    "rbe_partial = []\n",
    "rbe_complete = []\n",
    "r = range(1,61)\n",
    "for i in r:\n",
    "    M = instabilityMatrix(i)\n",
    "    b = np.random.randn(M.shape[0],1)\n",
    "    (P,L,U)=lup(M)\n",
    "    x = solveLup(P,L,U,b)\n",
    "    rbe_partial.extend([rbe(M,x,b)])\n",
    "    (P,Q,L,U)=lupq(M)\n",
    "    x = solveLupq(P,Q,L,U,b)\n",
    "    rbe_complete.extend([rbe(M,x,b)])"
   ]
  },
  {
   "cell_type": "code",
   "execution_count": 218,
   "id": "conservative-agency",
   "metadata": {},
   "outputs": [
    {
     "data": {
      "image/png": "[encoded data removed]",
      "text/plain": [
       "<Figure size 576x360 with 1 Axes>"
      ]
     },
     "metadata": {},
     "output_type": "display_data"
    }
   ],
   "source": [
    "fig = plt.figure(figsize=(8,5))\n",
    "plt.plot(r,rbe_partial,label='partial pivoting')\n",
    "plt.plot(r,rbe_complete,label='complete pivoting')\n",
    "plt.xlabel('m')\n",
    "plt.ylabel('Relative Backward Error')\n",
    "plt.yscale('log')\n",
    "plt.legend()\n",
    "plt.savefig('rbe.png')\n",
    "plt.show()"
   ]
  },
  {
   "cell_type": "code",
   "execution_count": null,
   "id": "broadband-catering",
   "metadata": {},
   "outputs": [],
   "source": []
  }
 ],
 "metadata": {
  "kernelspec": {
   "display_name": "Python 3",
   "language": "python",
   "name": "python3"
  },
  "language_info": {
   "codemirror_mode": {
    "name": "ipython",
    "version": 3
   },
   "file_extension": ".py",
   "mimetype": "text/x-python",
   "name": "python",
   "nbconvert_exporter": "python",
   "pygments_lexer": "ipython3",
   "version": "3.8.5"
  }
 },
 "nbformat": 4,
 "nbformat_minor": 5
}
