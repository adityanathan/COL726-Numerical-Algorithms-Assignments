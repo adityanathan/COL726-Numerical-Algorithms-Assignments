{
 "cells": [
  {
   "cell_type": "code",
   "execution_count": 1,
   "id": "valid-thinking",
   "metadata": {},
   "outputs": [],
   "source": [
    "import numpy as np"
   ]
  },
  {
   "cell_type": "code",
   "execution_count": 18,
   "id": "liked-fancy",
   "metadata": {},
   "outputs": [],
   "source": [
    "def G(n):\n",
    "    mat = np.zeros((n,n))\n",
    "    for i in range(n):\n",
    "        for j in range(n):\n",
    "            mat[i][j] = 2*((i+j+1)%2)/(i+j+1)\n",
    "    return mat"
   ]
  },
  {
   "cell_type": "code",
   "execution_count": 38,
   "id": "stable-palestine",
   "metadata": {},
   "outputs": [],
   "source": [
    "def dot(p,q):\n",
    "    leng = p.shape[0]\n",
    "    return p.T@G(leng)@q"
   ]
  },
  {
   "cell_type": "code",
   "execution_count": 58,
   "id": "bacterial-street",
   "metadata": {},
   "outputs": [],
   "source": [
    "def orthogonalizePolynomials(P):\n",
    "    V = P\n",
    "    n = V.shape[1]\n",
    "    Q = np.zeros(P.shape)\n",
    "    for i in range(n):\n",
    "#         rii = dot(V[:,i],V[:,i])\n",
    "        rii = V[:,i].T@V[:,i]\n",
    "        Q[:,i] = V[:,i]/rii\n",
    "        for j in range(i+1, n):\n",
    "            rij = dot(Q[:,i], V[:,j])\n",
    "            V[:,j] = V[:,j] - Q[:,i]*rij\n",
    "    return Q"
   ]
  },
  {
   "cell_type": "code",
   "execution_count": 60,
   "id": "acknowledged-hunter",
   "metadata": {},
   "outputs": [],
   "source": [
    "# orthogonalizePolynomials(np.eye(5))"
   ]
  },
  {
   "cell_type": "code",
   "execution_count": null,
   "id": "greek-eleven",
   "metadata": {},
   "outputs": [],
   "source": []
  }
 ],
 "metadata": {
  "kernelspec": {
   "display_name": "Python 3",
   "language": "python",
   "name": "python3"
  },
  "language_info": {
   "codemirror_mode": {
    "name": "ipython",
    "version": 3
   },
   "file_extension": ".py",
   "mimetype": "text/x-python",
   "name": "python",
   "nbconvert_exporter": "python",
   "pygments_lexer": "ipython3",
   "version": "3.8.5"
  }
 },
 "nbformat": 4,
 "nbformat_minor": 5
}
